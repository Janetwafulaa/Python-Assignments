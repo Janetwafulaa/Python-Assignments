{
 "cells": [
  {
   "cell_type": "markdown",
   "id": "12fc2c89",
   "metadata": {},
   "source": [
    "##### ASSIGNMENT1"
   ]
  },
  {
   "cell_type": "code",
   "execution_count": 5,
   "id": "4943e33c",
   "metadata": {},
   "outputs": [],
   "source": [
    "o={1,2,3,4,5,6,7,8,9,10,11,12}\n",
    "a={2,4,6,8,10}\n",
    "b={3,8,11,12}\n",
    "c={2,3,6,8,9,11}\n",
    "\n",
    "\n"
   ]
  },
  {
   "cell_type": "code",
   "execution_count": 6,
   "id": "1f37237e",
   "metadata": {},
   "outputs": [
    {
     "data": {
      "text/plain": [
       "{8}"
      ]
     },
     "execution_count": 6,
     "metadata": {},
     "output_type": "execute_result"
    }
   ],
   "source": [
    "#intersection\n",
    "a.intersection(b)"
   ]
  },
  {
   "cell_type": "code",
   "execution_count": 7,
   "id": "4b75f4ac",
   "metadata": {},
   "outputs": [
    {
     "data": {
      "text/plain": [
       "{2, 3, 4, 6, 8, 10, 11, 12}"
      ]
     },
     "execution_count": 7,
     "metadata": {},
     "output_type": "execute_result"
    }
   ],
   "source": [
    "#union\n",
    "a.union(b)"
   ]
  },
  {
   "cell_type": "code",
   "execution_count": 8,
   "id": "1a934d7d",
   "metadata": {},
   "outputs": [
    {
     "name": "stdout",
     "output_type": "stream",
     "text": [
      "{1, 3, 5, 7, 9, 11, 12}\n"
     ]
    }
   ],
   "source": [
    "#complement\n",
    "a_complement=o-a\n",
    "print(a_complement)"
   ]
  },
  {
   "cell_type": "code",
   "execution_count": 9,
   "id": "da52fd78",
   "metadata": {},
   "outputs": [
    {
     "name": "stdout",
     "output_type": "stream",
     "text": [
      "{1, 3, 5, 7, 9, 11, 12}\n"
     ]
    }
   ],
   "source": [
    "#absolute complement\n",
    "a_complement=o-a\n",
    "print(a_complement)"
   ]
  },
  {
   "cell_type": "code",
   "execution_count": null,
   "id": "a8d890e3",
   "metadata": {},
   "outputs": [
    {
     "name": "stdout",
     "output_type": "stream",
     "text": [
      "{1, 5, 9, 7}\n"
     ]
    }
   ],
   "source": [
    "#complement of union of a and b\n",
    "a_union_b_complement = o - (a | b)\n",
    "print(a_union_b_complement)"
   ]
  },
  {
   "cell_type": "code",
   "execution_count": null,
   "id": "4cdb76d1",
   "metadata": {},
   "outputs": [
    {
     "name": "stdout",
     "output_type": "stream",
     "text": [
      "{12}\n"
     ]
    }
   ],
   "source": [
    "#B intersect complement of C\n",
    "c_complement=o-c\n",
    "ans=b.intersection(o-c)\n",
    "print(ans)"
   ]
  },
  {
   "cell_type": "code",
   "execution_count": 12,
   "id": "cd78c60a",
   "metadata": {},
   "outputs": [
    {
     "name": "stdout",
     "output_type": "stream",
     "text": [
      "{2, 10, 4, 6}\n"
     ]
    }
   ],
   "source": [
    "#relative complement of b in a\n",
    "\n",
    "r_complement=a-b\n",
    "print(r_complement)"
   ]
  },
  {
   "cell_type": "code",
   "execution_count": 13,
   "id": "693653f6",
   "metadata": {},
   "outputs": [
    {
     "name": "stdout",
     "output_type": "stream",
     "text": [
      "{8, 9, 2, 6}\n"
     ]
    }
   ],
   "source": [
    "ans =c-(b-a)\n",
    "print (ans)"
   ]
  },
  {
   "cell_type": "code",
   "execution_count": 14,
   "id": "51d02230",
   "metadata": {},
   "outputs": [
    {
     "name": "stdout",
     "output_type": "stream",
     "text": [
      "{2, 6, 8, 9}\n"
     ]
    }
   ],
   "source": [
    "ans1=c.intersection(a)\n",
    "ans2=c-b\n",
    "res= ans1 | ans2\n",
    "print(res)"
   ]
  },
  {
   "cell_type": "markdown",
   "id": "f070104c",
   "metadata": {},
   "source": [
    "##### SET OPERATORS IN PYTHON"
   ]
  },
  {
   "cell_type": "code",
   "execution_count": 18,
   "id": "6f437d9d",
   "metadata": {},
   "outputs": [],
   "source": [
    "Nina = set([\"Cat\",\"Dog\",\"Rabbit\",\"Donkey\",\"Parrot\", \"Goldfish\"])\n",
    "Mary = set([\"Dog\",\"Chinchilla\",\"Horse\", \"Chicken\"])\n",
    "Eve = set([\"Rabbit\", \"Turtle\", \"Goldfish\"])"
   ]
  },
  {
   "cell_type": "code",
   "execution_count": 19,
   "metadata": {},
   "outputs": [
    {
     "name": "stdout",
     "output_type": "stream",
     "text": [
      "{'Rabbit', 'Goldfish'}\n"
     ]
    }
   ],
   "source": [
    "# after eves' turtle passing away\n",
    "Eve = set([\"Rabbit\", \"Turtle\", \"Goldfish\"])\n",
    "Eve.remove(\"Turtle\")\n",
    "print(Eve)"
   ]
  },
  {
   "cell_type": "code",
   "execution_count": 10,
   "id": "d019571a",
   "metadata": {},
   "outputs": [
    {
     "name": "stdout",
     "output_type": "stream",
     "text": [
      "{'Chicken', 'Horse', 'Dog', 'Cat', 'Donkey', 'Goldfish', 'Rabbit', 'Parrot', 'Chinchilla'}\n"
     ]
    }
   ],
   "source": [
    "#after Nina updating her pet list to include mary's pets\n",
    "\n",
    "Nina.update(Mary)\n",
    "print(Nina)"
   ]
  },
  {
   "cell_type": "code",
   "execution_count": 16,
   "id": "fd1a8aa1",
   "metadata": {},
   "outputs": [
    {
     "name": "stdout",
     "output_type": "stream",
     "text": [
      "{'Rabbit', 'Goldfish'}\n"
     ]
    }
   ],
   "source": [
    "#after eve taking some pets from Nina\n",
    "\n",
    "Nina.intersection_update(Eve)\n",
    "print(Nina)"
   ]
  },
  {
   "cell_type": "markdown",
   "id": "657e098a",
   "metadata": {},
   "source": [
    "##### EUROPEAN COUNTRIES EXERCISE"
   ]
  },
  {
   "cell_type": "code",
   "execution_count": 27,
   "id": "79cad6f8",
   "metadata": {},
   "outputs": [],
   "source": [
    "import pandas as pd\n",
    "\n",
    "# Load Europe and EU\n",
    "europe = pd.read_excel('Europe_and_EU.xlsx', sheet_name = 'Europe') \n",
    "eu = pd.read_excel('Europe_and_EU.xlsx', sheet_name = 'EU')\n",
    "\n",
    "# Your code here to remove any whitespace from names\n",
    "def clean_with_fillna_and_strip_names(df):\n",
    "    for col in df.select_dtypes(include='object').columns:\n",
    "        df[col] = df[col].str.strip()\n"
   ]
  },
  {
   "cell_type": "code",
   "execution_count": 23,
   "id": "79c5f5be",
   "metadata": {},
   "outputs": [
    {
     "data": {
      "text/html": [
       "<div>\n",
       "<style scoped>\n",
       "    .dataframe tbody tr th:only-of-type {\n",
       "        vertical-align: middle;\n",
       "    }\n",
       "\n",
       "    .dataframe tbody tr th {\n",
       "        vertical-align: top;\n",
       "    }\n",
       "\n",
       "    .dataframe thead th {\n",
       "        text-align: right;\n",
       "    }\n",
       "</style>\n",
       "<table border=\"1\" class=\"dataframe\">\n",
       "  <thead>\n",
       "    <tr style=\"text-align: right;\">\n",
       "      <th></th>\n",
       "      <th>Rank</th>\n",
       "      <th>Country</th>\n",
       "      <th>Population</th>\n",
       "      <th>% of population</th>\n",
       "      <th>Average relative annual growth (%)</th>\n",
       "      <th>Average absolute annual growth</th>\n",
       "      <th>Estimated doubling time (Years)</th>\n",
       "      <th>Official figure (where available)</th>\n",
       "      <th>Date of last figure</th>\n",
       "      <th>Regional grouping</th>\n",
       "      <th>Source</th>\n",
       "    </tr>\n",
       "  </thead>\n",
       "  <tbody>\n",
       "    <tr>\n",
       "      <th>0</th>\n",
       "      <td>1.0</td>\n",
       "      <td>Russia</td>\n",
       "      <td>143964709</td>\n",
       "      <td>17.15</td>\n",
       "      <td>0.19</td>\n",
       "      <td>294285</td>\n",
       "      <td>368</td>\n",
       "      <td>146839993</td>\n",
       "      <td>2017-01-01 00:00:00</td>\n",
       "      <td>EAEU</td>\n",
       "      <td>[1]</td>\n",
       "    </tr>\n",
       "    <tr>\n",
       "      <th>1</th>\n",
       "      <td>2.0</td>\n",
       "      <td>Germany</td>\n",
       "      <td>82521653</td>\n",
       "      <td>9.80</td>\n",
       "      <td>1.20</td>\n",
       "      <td>600000</td>\n",
       "      <td>90</td>\n",
       "      <td>82800000</td>\n",
       "      <td>2016-12-31 00:00:00</td>\n",
       "      <td>EU</td>\n",
       "      <td>Official estimate</td>\n",
       "    </tr>\n",
       "    <tr>\n",
       "      <th>2</th>\n",
       "      <td>3.0</td>\n",
       "      <td>Turkey</td>\n",
       "      <td>80810000</td>\n",
       "      <td>9.60</td>\n",
       "      <td>1.34</td>\n",
       "      <td>1035000</td>\n",
       "      <td>52</td>\n",
       "      <td>77695904</td>\n",
       "      <td>2016-12-31 00:00:00</td>\n",
       "      <td>NaN</td>\n",
       "      <td>[2]</td>\n",
       "    </tr>\n",
       "    <tr>\n",
       "      <th>3</th>\n",
       "      <td>4.0</td>\n",
       "      <td>France</td>\n",
       "      <td>65233271</td>\n",
       "      <td>7.76</td>\n",
       "      <td>0.39</td>\n",
       "      <td>261022</td>\n",
       "      <td>177</td>\n",
       "      <td>66991000</td>\n",
       "      <td>2017-03-01 00:00:00</td>\n",
       "      <td>EU</td>\n",
       "      <td>[3]</td>\n",
       "    </tr>\n",
       "    <tr>\n",
       "      <th>4</th>\n",
       "      <td>5.0</td>\n",
       "      <td>United Kingdom</td>\n",
       "      <td>65110276</td>\n",
       "      <td>7.75</td>\n",
       "      <td>0.75</td>\n",
       "      <td>484000</td>\n",
       "      <td>92</td>\n",
       "      <td>66573504</td>\n",
       "      <td>2016-12-30 00:00:00</td>\n",
       "      <td>EU</td>\n",
       "      <td>Official estimate</td>\n",
       "    </tr>\n",
       "  </tbody>\n",
       "</table>\n",
       "</div>"
      ],
      "text/plain": [
       "   Rank         Country  Population  % of population  \\\n",
       "0   1.0          Russia   143964709            17.15   \n",
       "1   2.0        Germany     82521653             9.80   \n",
       "2   3.0         Turkey     80810000             9.60   \n",
       "3   4.0          France    65233271             7.76   \n",
       "4   5.0  United Kingdom    65110276             7.75   \n",
       "\n",
       "   Average relative annual growth (%)  Average absolute annual growth  \\\n",
       "0                                0.19                          294285   \n",
       "1                                1.20                          600000   \n",
       "2                                1.34                         1035000   \n",
       "3                                0.39                          261022   \n",
       "4                                0.75                          484000   \n",
       "\n",
       "  Estimated doubling time (Years)  Official figure (where available)  \\\n",
       "0                             368                          146839993   \n",
       "1                              90                           82800000   \n",
       "2                              52                           77695904   \n",
       "3                             177                           66991000   \n",
       "4                              92                           66573504   \n",
       "\n",
       "   Date of last figure Regional grouping             Source  \n",
       "0  2017-01-01 00:00:00             EAEU                 [1]  \n",
       "1  2016-12-31 00:00:00               EU   Official estimate  \n",
       "2  2016-12-31 00:00:00               NaN                [2]  \n",
       "3  2017-03-01 00:00:00               EU                 [3]  \n",
       "4  2016-12-30 00:00:00               EU   Official estimate  "
      ]
     },
     "execution_count": 23,
     "metadata": {},
     "output_type": "execute_result"
    }
   ],
   "source": [
    "df = pd.read_excel(r\"Europe_and_EU.xlsx\")\n",
    "df.head()"
   ]
  },
  {
   "cell_type": "code",
   "execution_count": 29,
   "id": "3b6da478",
   "metadata": {},
   "outputs": [
    {
     "name": "stdout",
     "output_type": "stream",
     "text": [
      "<class 'pandas.core.frame.DataFrame'>\n",
      "RangeIndex: 57 entries, 0 to 56\n",
      "Data columns (total 11 columns):\n",
      " #   Column                              Non-Null Count  Dtype  \n",
      "---  ------                              --------------  -----  \n",
      " 0   Rank                                49 non-null     float64\n",
      " 1   Country                             57 non-null     object \n",
      " 2   Population                          57 non-null     int64  \n",
      " 3   % of population                     57 non-null     float64\n",
      " 4   Average relative annual growth (%)  57 non-null     float64\n",
      " 5   Average absolute annual growth      57 non-null     int64  \n",
      " 6   Estimated doubling time (Years)     57 non-null     object \n",
      " 7   Official figure (where available)   57 non-null     int64  \n",
      " 8   Date of last figure                 57 non-null     object \n",
      " 9   Regional grouping                   38 non-null     object \n",
      " 10  Source                              57 non-null     object \n",
      "dtypes: float64(3), int64(3), object(5)\n",
      "memory usage: 5.0+ KB\n"
     ]
    }
   ],
   "source": [
    "df.info()"
   ]
  },
  {
   "cell_type": "code",
   "execution_count": 28,
   "id": "dce46b12",
   "metadata": {},
   "outputs": [
    {
     "data": {
      "text/html": [
       "<div>\n",
       "<style scoped>\n",
       "    .dataframe tbody tr th:only-of-type {\n",
       "        vertical-align: middle;\n",
       "    }\n",
       "\n",
       "    .dataframe tbody tr th {\n",
       "        vertical-align: top;\n",
       "    }\n",
       "\n",
       "    .dataframe thead th {\n",
       "        text-align: right;\n",
       "    }\n",
       "</style>\n",
       "<table border=\"1\" class=\"dataframe\">\n",
       "  <thead>\n",
       "    <tr style=\"text-align: right;\">\n",
       "      <th></th>\n",
       "      <th>Rank</th>\n",
       "      <th>Country</th>\n",
       "      <th>Population</th>\n",
       "      <th>% of population</th>\n",
       "      <th>Average relative annual growth (%)</th>\n",
       "      <th>Average absolute annual growth</th>\n",
       "      <th>Estimated doubling time (Years)</th>\n",
       "      <th>Official figure (where available)</th>\n",
       "      <th>Date of last figure</th>\n",
       "      <th>Regional grouping</th>\n",
       "      <th>Source</th>\n",
       "    </tr>\n",
       "  </thead>\n",
       "  <tbody>\n",
       "    <tr>\n",
       "      <th>0</th>\n",
       "      <td>1.0</td>\n",
       "      <td>Russia</td>\n",
       "      <td>143964709</td>\n",
       "      <td>17.15</td>\n",
       "      <td>0.19</td>\n",
       "      <td>294285</td>\n",
       "      <td>368</td>\n",
       "      <td>146839993</td>\n",
       "      <td>2017-01-01 00:00:00</td>\n",
       "      <td>EAEU</td>\n",
       "      <td>[1]</td>\n",
       "    </tr>\n",
       "    <tr>\n",
       "      <th>1</th>\n",
       "      <td>2.0</td>\n",
       "      <td>Germany</td>\n",
       "      <td>82521653</td>\n",
       "      <td>9.80</td>\n",
       "      <td>1.20</td>\n",
       "      <td>600000</td>\n",
       "      <td>90</td>\n",
       "      <td>82800000</td>\n",
       "      <td>2016-12-31 00:00:00</td>\n",
       "      <td>EU</td>\n",
       "      <td>Official estimate</td>\n",
       "    </tr>\n",
       "    <tr>\n",
       "      <th>2</th>\n",
       "      <td>3.0</td>\n",
       "      <td>Turkey</td>\n",
       "      <td>80810000</td>\n",
       "      <td>9.60</td>\n",
       "      <td>1.34</td>\n",
       "      <td>1035000</td>\n",
       "      <td>52</td>\n",
       "      <td>77695904</td>\n",
       "      <td>2016-12-31 00:00:00</td>\n",
       "      <td>NaN</td>\n",
       "      <td>[2]</td>\n",
       "    </tr>\n",
       "  </tbody>\n",
       "</table>\n",
       "</div>"
      ],
      "text/plain": [
       "   Rank    Country  Population  % of population  \\\n",
       "0   1.0     Russia   143964709            17.15   \n",
       "1   2.0   Germany     82521653             9.80   \n",
       "2   3.0    Turkey     80810000             9.60   \n",
       "\n",
       "   Average relative annual growth (%)  Average absolute annual growth  \\\n",
       "0                                0.19                          294285   \n",
       "1                                1.20                          600000   \n",
       "2                                1.34                         1035000   \n",
       "\n",
       "  Estimated doubling time (Years)  Official figure (where available)  \\\n",
       "0                             368                          146839993   \n",
       "1                              90                           82800000   \n",
       "2                              52                           77695904   \n",
       "\n",
       "   Date of last figure Regional grouping             Source  \n",
       "0  2017-01-01 00:00:00             EAEU                 [1]  \n",
       "1  2016-12-31 00:00:00               EU   Official estimate  \n",
       "2  2016-12-31 00:00:00               NaN                [2]  "
      ]
     },
     "execution_count": 28,
     "metadata": {},
     "output_type": "execute_result"
    }
   ],
   "source": [
    "#previewing the data\n",
    "europe.head(3)"
   ]
  },
  {
   "cell_type": "code",
   "execution_count": 25,
   "id": "e55931c7",
   "metadata": {},
   "outputs": [
    {
     "data": {
      "text/html": [
       "<div>\n",
       "<style scoped>\n",
       "    .dataframe tbody tr th:only-of-type {\n",
       "        vertical-align: middle;\n",
       "    }\n",
       "\n",
       "    .dataframe tbody tr th {\n",
       "        vertical-align: top;\n",
       "    }\n",
       "\n",
       "    .dataframe thead th {\n",
       "        text-align: right;\n",
       "    }\n",
       "</style>\n",
       "<table border=\"1\" class=\"dataframe\">\n",
       "  <thead>\n",
       "    <tr style=\"text-align: right;\">\n",
       "      <th></th>\n",
       "      <th>Rank</th>\n",
       "      <th>Country</th>\n",
       "      <th>2017 population</th>\n",
       "      <th>% of pop.</th>\n",
       "      <th>Average relative annual growth</th>\n",
       "      <th>Average absolute annual growth</th>\n",
       "      <th>Official figure</th>\n",
       "      <th>Date of last figure</th>\n",
       "      <th>Source</th>\n",
       "    </tr>\n",
       "  </thead>\n",
       "  <tbody>\n",
       "    <tr>\n",
       "      <th>0</th>\n",
       "      <td>1</td>\n",
       "      <td>Germany</td>\n",
       "      <td>82800000</td>\n",
       "      <td>16.18</td>\n",
       "      <td>0.76</td>\n",
       "      <td>628876</td>\n",
       "      <td>82576900</td>\n",
       "      <td>2017-03-31</td>\n",
       "      <td>Official estimate</td>\n",
       "    </tr>\n",
       "    <tr>\n",
       "      <th>1</th>\n",
       "      <td>2</td>\n",
       "      <td>France</td>\n",
       "      <td>67210459</td>\n",
       "      <td>13.10</td>\n",
       "      <td>0.40</td>\n",
       "      <td>265557</td>\n",
       "      <td>67174000</td>\n",
       "      <td>2018-01-01</td>\n",
       "      <td>Monthly official estimate</td>\n",
       "    </tr>\n",
       "    <tr>\n",
       "      <th>2</th>\n",
       "      <td>3</td>\n",
       "      <td>United Kingdom</td>\n",
       "      <td>65808573</td>\n",
       "      <td>12.86</td>\n",
       "      <td>0.65</td>\n",
       "      <td>428793</td>\n",
       "      <td>65648100</td>\n",
       "      <td>2017-06-30</td>\n",
       "      <td>Official estimate</td>\n",
       "    </tr>\n",
       "  </tbody>\n",
       "</table>\n",
       "</div>"
      ],
      "text/plain": [
       "   Rank         Country  2017 population  % of pop.  \\\n",
       "0     1        Germany          82800000      16.18   \n",
       "1     2          France         67210459      13.10   \n",
       "2     3  United Kingdom         65808573      12.86   \n",
       "\n",
       "   Average relative annual growth  Average absolute annual growth  \\\n",
       "0                            0.76                          628876   \n",
       "1                            0.40                          265557   \n",
       "2                            0.65                          428793   \n",
       "\n",
       "   Official figure Date of last figure                     Source  \n",
       "0         82576900          2017-03-31          Official estimate  \n",
       "1         67174000          2018-01-01  Monthly official estimate  \n",
       "2         65648100          2017-06-30          Official estimate  "
      ]
     },
     "execution_count": 25,
     "metadata": {},
     "output_type": "execute_result"
    }
   ],
   "source": [
    "eu.head(3)"
   ]
  },
  {
   "cell_type": "code",
   "execution_count": 37,
   "id": "b7c0f509",
   "metadata": {},
   "outputs": [
    {
     "name": "stdout",
     "output_type": "stream",
     "text": [
      "are all EU countries a subset of Europe list?: True\n"
     ]
    }
   ],
   "source": [
    "import pandas as pd\n",
    "\n",
    "# Load raw data from both sheets\n",
    "file_path = \"Europe_and_EU.xlsx\"  # update path if needed\n",
    "excel_file = pd.ExcelFile(file_path)\n",
    "europe_raw = excel_file.parse('Europe')\n",
    "eu_raw = excel_file.parse('EU')\n",
    "\n",
    "# Extract and clean the 'country' column from each sheet\n",
    "# Strip whitespace, convert to lowercase for accurate comparison\n",
    "europe_countries_raw = set(europe_raw['Country'].astype(str).str.strip().str.lower().dropna().unique())\n",
    "eu_countries_raw = set(eu_raw['Country'].astype(str).str.strip().str.lower().dropna().unique())\n",
    "\n",
    "# Check if all EU countries are in the Europe sheet\n",
    "is_subset = eu_countries_raw.issubset(europe_countries_raw)\n",
    "\n",
    "# Show countries that are in EU but not in Europe\n",
    "not_in_europe = eu_countries_raw - europe_countries_raw\n",
    "\n",
    "# Output the result\n",
    "print(\"are all EU countries a subset of Europe list?:\", is_subset)\n",
    "if not is_subset:\n",
    "    print(\"is not EU countries missing from Europe sheet:\")\n",
    "    for country in sorted(not_in_europe):\n",
    "        print(\"-\", country)\n"
   ]
  },
  {
   "cell_type": "code",
   "execution_count": 38,
   "id": "b1f61c09",
   "metadata": {},
   "outputs": [
    {
     "name": "stdout",
     "output_type": "stream",
     "text": [
      " Countries in Europe but not in the EU:\n",
      "- albania\n",
      "- andorra\n",
      "- armenia\n",
      "- azerbaijan\n",
      "- belarus\n",
      "- bosnia and herzegovina\n",
      "- faroe islands (denmark)\n",
      "- georgia\n",
      "- gibraltar (uk)\n",
      "- guernsey (uk)\n",
      "- iceland\n",
      "- isle of man (uk)\n",
      "- jersey (uk)\n",
      "- kosovo\n",
      "- liechtenstein\n",
      "- macedonia\n",
      "- moldova\n",
      "- monaco\n",
      "- montenegro\n",
      "- norway\n",
      "- russia\n",
      "- san marino\n",
      "- serbia\n",
      "- svalbard (norway)\n",
      "- switzerland\n",
      "- turkey\n",
      "- ukraine\n",
      "- vatican city\n",
      "- åland islands (finland)\n"
     ]
    }
   ],
   "source": [
    "# Find the set of countries that are in Europe but not the EU\n",
    "import pandas as pd\n",
    "\n",
    "# Load raw data from Excel sheets\n",
    "file_path = \"Europe_and_EU.xlsx\"  # replace with full path if needed\n",
    "excel_file = pd.ExcelFile(file_path)\n",
    "europe_raw = excel_file.parse('Europe')\n",
    "eu_raw = excel_file.parse('EU')\n",
    "\n",
    "# Extract and clean the 'Country' column from both\n",
    "europe_countries_raw = set(europe_raw['Country'].astype(str).str.strip().str.lower().dropna().unique())\n",
    "eu_countries_raw = set(eu_raw['Country'].astype(str).str.strip().str.lower().dropna().unique())\n",
    "\n",
    "# Find countries in Europe but not in the EU\n",
    "non_eu_europe = europe_countries_raw - eu_countries_raw\n",
    "\n",
    "# Output the result\n",
    "print(\" Countries in Europe but not in the EU:\")\n",
    "for country in sorted(non_eu_europe):\n",
    "    print(\"-\", country)\n"
   ]
  }
 ],
 "metadata": {
  "kernelspec": {
   "display_name": "base",
   "language": "python",
   "name": "python3"
  },
  "language_info": {
   "codemirror_mode": {
    "name": "ipython",
    "version": 3
   },
   "file_extension": ".py",
   "mimetype": "text/x-python",
   "name": "python",
   "nbconvert_exporter": "python",
   "pygments_lexer": "ipython3",
   "version": "3.13.5"
  }
 },
 "nbformat": 4,
 "nbformat_minor": 5
}
