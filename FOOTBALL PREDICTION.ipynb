{
 "cells": [
  {
   "cell_type": "markdown",
   "id": "c5523ae4",
   "metadata": {},
   "source": [
    "#### FOOTBALL PREDICTION 24/25"
   ]
  },
  {
   "cell_type": "code",
   "execution_count": 2,
   "id": "c58ddde4",
   "metadata": {},
   "outputs": [],
   "source": [
    "import math\n",
    "import pandas as pd\n",
    "import matplotlib.pyplot as plt\n",
    "import numpy as np\n",
    "import seaborn as sns\n",
    "from scipy import stats\n"
   ]
  },
  {
   "cell_type": "code",
   "execution_count": null,
   "id": "8b659c19",
   "metadata": {},
   "outputs": [
    {
     "name": "stdout",
     "output_type": "stream",
     "text": [
      "0.1286274522372909\n"
     ]
    }
   ],
   "source": [
    "#predict games that arsenal will win in one season\n",
    "#38 games in a season ,won 20 games \n",
    "k=20\n",
    "n=38\n",
    "p=0.53\n",
    "win_prob = (math.comb (n,k))* p**k *((1-p)**(n-k))\n",
    "print (win_prob)"
   ]
  },
  {
   "cell_type": "code",
   "execution_count": 4,
   "id": "86e63bcc",
   "metadata": {},
   "outputs": [
    {
     "name": "stdout",
     "output_type": "stream",
     "text": [
      "0.13533769784709293\n"
     ]
    }
   ],
   "source": [
    "#predict games that Liverpool will win in one season\n",
    "#38 games in a season ,won 25 games \n",
    "k=25\n",
    "n=38\n",
    "p=0.66\n",
    "win_prob = (math.comb (n,k))* p**k *((1-p)**(n-k))\n",
    "print (win_prob)"
   ]
  },
  {
   "cell_type": "code",
   "execution_count": 5,
   "id": "e6832cbb",
   "metadata": {},
   "outputs": [
    {
     "name": "stdout",
     "output_type": "stream",
     "text": [
      "0.1292222374871875\n"
     ]
    }
   ],
   "source": [
    "#predict games that ManCity will win in one season\n",
    "#38 games in a season ,won 21 games \n",
    "k=21\n",
    "n=38\n",
    "p=0.55\n",
    "win_prob = (math.comb (n,k))* p**k *((1-p)**(n-k))\n",
    "print (win_prob)"
   ]
  },
  {
   "cell_type": "code",
   "execution_count": 6,
   "id": "06f84d9a",
   "metadata": {},
   "outputs": [
    {
     "name": "stdout",
     "output_type": "stream",
     "text": [
      "0.1286274522372909\n"
     ]
    }
   ],
   "source": [
    "#predict games that Chelsea will win in one season\n",
    "#38 games in a season ,won 20 games \n",
    "k=20\n",
    "n=38\n",
    "p=0.53\n",
    "win_prob = (math.comb (n,k))* p**k *((1-p)**(n-k))\n",
    "print (win_prob)"
   ]
  },
  {
   "cell_type": "code",
   "execution_count": 7,
   "id": "9822dcfa",
   "metadata": {},
   "outputs": [
    {
     "name": "stdout",
     "output_type": "stream",
     "text": [
      "0.1286274522372909\n"
     ]
    }
   ],
   "source": [
    "#predict games that NewCastle will win in one season\n",
    "#38 games in a season ,won 20 games \n",
    "k=20\n",
    "n=38\n",
    "p=0.53\n",
    "win_prob = (math.comb (n,k))* p**k *((1-p)**(n-k))\n",
    "print (win_prob)"
   ]
  },
  {
   "cell_type": "code",
   "execution_count": 8,
   "id": "466d355e",
   "metadata": {},
   "outputs": [
    {
     "name": "stdout",
     "output_type": "stream",
     "text": [
      "0.1285853206354659\n"
     ]
    }
   ],
   "source": [
    "#predict games that Aston Villa will win in one season\n",
    "#38 games in a season ,won 19 games \n",
    "k=19\n",
    "n=38\n",
    "p=0.5\n",
    "win_prob = (math.comb (n,k))* p**k *((1-p)**(n-k))\n",
    "print (win_prob)"
   ]
  },
  {
   "cell_type": "code",
   "execution_count": null,
   "id": "8a01bb9e",
   "metadata": {},
   "outputs": [
    {
     "name": "stdout",
     "output_type": "stream",
     "text": [
      "0.1285853206354659\n"
     ]
    }
   ],
   "source": [
    "#predict games that Nottm Forest will win in one season\n",
    "#38 games in a season ,won 19 games \n",
    "k=19\n",
    "n=38\n",
    "p=0.5\n",
    "win_prob = (math.comb (n,k))* p**k *((1-p)**(n-k))\n",
    "print (win_prob)"
   ]
  },
  {
   "cell_type": "code",
   "execution_count": null,
   "id": "0c0ee6b7",
   "metadata": {},
   "outputs": [
    {
     "name": "stdout",
     "output_type": "stream",
     "text": [
      "0.13017835771720881\n"
     ]
    }
   ],
   "source": [
    "#predict games Brighton that will win in one season\n",
    "#38 games in a season ,won 16 games \n",
    "k=16\n",
    "n=38\n",
    "p=0.42\n",
    "win_prob = (math.comb (n,k))* p**k *((1-p)**(n-k))\n",
    "print (win_prob)"
   ]
  },
  {
   "cell_type": "code",
   "execution_count": 14,
   "id": "dd5df524",
   "metadata": {},
   "outputs": [
    {
     "name": "stdout",
     "output_type": "stream",
     "text": [
      "0.1312446898377296\n"
     ]
    }
   ],
   "source": [
    "#predict games that Bournemeth will win in one season\n",
    "#38 games in a season ,won 15 games \n",
    "k=15\n",
    "n=38\n",
    "p=0.39\n",
    "win_prob = (math.comb (n,k))* p**k *((1-p)**(n-k))\n",
    "print (win_prob)"
   ]
  },
  {
   "cell_type": "code",
   "execution_count": 29,
   "id": "673f326d",
   "metadata": {},
   "outputs": [
    {
     "name": "stdout",
     "output_type": "stream",
     "text": [
      "0.13017835771720881\n"
     ]
    }
   ],
   "source": [
    "#predict games that Brentford will win in one season\n",
    "#38 games in a season ,won 16 games \n",
    "k=16\n",
    "n=38\n",
    "p=0.42\n",
    "prob = (math.comb (n,k))* p**k *((1-p)**(n-k))\n",
    "print (prob)"
   ]
  },
  {
   "cell_type": "code",
   "execution_count": 16,
   "id": "c1de3852",
   "metadata": {},
   "outputs": [
    {
     "name": "stdout",
     "output_type": "stream",
     "text": [
      "0.1312446898377296\n"
     ]
    }
   ],
   "source": [
    "##predict games that Fulham will win in one season\n",
    "#38 games in a season ,won 15 games \n",
    "k=15\n",
    "n=38\n",
    "p=0.39\n",
    "win_prob = (math.comb (n,k))* p**k *((1-p)**(n-k))\n",
    "print (win_prob)"
   ]
  },
  {
   "cell_type": "code",
   "execution_count": 18,
   "id": "61126182",
   "metadata": {},
   "outputs": [
    {
     "name": "stdout",
     "output_type": "stream",
     "text": [
      "0.13533769784709268\n"
     ]
    }
   ],
   "source": [
    "#predict games that Crystal Palace will win in one season\n",
    "#38 games in a season ,won 13 games \n",
    "k=13\n",
    "n=38\n",
    "p=0.34\n",
    "win_prob = (math.comb (n,k))* p**k *((1-p)**(n-k))\n",
    "print (win_prob)"
   ]
  },
  {
   "cell_type": "code",
   "execution_count": null,
   "id": "b446ba4c",
   "metadata": {},
   "outputs": [
    {
     "name": "stdout",
     "output_type": "stream",
     "text": [
      "0.14031293503851766\n"
     ]
    }
   ],
   "source": [
    "#predict games that Everton will win in one season\n",
    "#38 games in a season ,won 11 games \n",
    "k=11\n",
    "n=38\n",
    "p=0.28\n",
    "win_prob = (math.comb (n,k))* p**k *((1-p)**(n-k))\n",
    "print (win_prob)"
   ]
  },
  {
   "cell_type": "code",
   "execution_count": 21,
   "id": "81e215e5",
   "metadata": {},
   "outputs": [
    {
     "name": "stdout",
     "output_type": "stream",
     "text": [
      "0.14031293503851766\n"
     ]
    }
   ],
   "source": [
    "#predict games that West Ham will win in one season\n",
    "#38 games in a season ,won 11 games \n",
    "k=11\n",
    "n=38\n",
    "p=0.28\n",
    "win_prob = (math.comb (n,k))* p**k *((1-p)**(n-k))\n",
    "print (win_prob)"
   ]
  },
  {
   "cell_type": "code",
   "execution_count": 22,
   "id": "682a3e27",
   "metadata": {},
   "outputs": [
    {
     "name": "stdout",
     "output_type": "stream",
     "text": [
      "0.14031293503851766\n"
     ]
    }
   ],
   "source": [
    "#predict games that Manchester United will win in one season\n",
    "#38 games in a season ,won 11 games \n",
    "k=11\n",
    "n=38\n",
    "p=0.28\n",
    "win_prob = (math.comb (n,k))* p**k *((1-p)**(n-k))\n",
    "print (win_prob)"
   ]
  },
  {
   "cell_type": "code",
   "execution_count": 23,
   "id": "c0072478",
   "metadata": {},
   "outputs": [
    {
     "name": "stdout",
     "output_type": "stream",
     "text": [
      "0.1379100605388947\n"
     ]
    }
   ],
   "source": [
    "#predict games that Wolves will win in one season\n",
    "#38 games in a season ,won 12 games \n",
    "k=12\n",
    "n=38\n",
    "p=0.32\n",
    "win_prob = (math.comb (n,k))* p**k *((1-p)**(n-k))\n",
    "print (win_prob)"
   ]
  },
  {
   "cell_type": "code",
   "execution_count": null,
   "id": "467afde2",
   "metadata": {},
   "outputs": [
    {
     "name": "stdout",
     "output_type": "stream",
     "text": [
      "0.14031293503851766\n"
     ]
    }
   ],
   "source": [
    "#predict games that Tottenham will win in one season\n",
    "#38 games in a season ,won 11 games \n",
    "k=11\n",
    "n=38\n",
    "p=0.28\n",
    "win_prob = (math.comb (n,k))* p**k *((1-p)**(n-k))\n",
    "print (win_prob)"
   ]
  },
  {
   "cell_type": "code",
   "execution_count": 25,
   "id": "18caf5d7",
   "metadata": {},
   "outputs": [
    {
     "name": "stdout",
     "output_type": "stream",
     "text": [
      "0.1748530757677101\n"
     ]
    }
   ],
   "source": [
    "#predict games that Leicester City will win in one season\n",
    "#38 games in a season ,won 6 games \n",
    "k=6\n",
    "n=38\n",
    "p=0.16\n",
    "win_prob = (math.comb (n,k))* p**k *((1-p)**(n-k))\n",
    "print (win_prob)"
   ]
  },
  {
   "cell_type": "code",
   "execution_count": 26,
   "id": "1e42f913",
   "metadata": {},
   "outputs": [
    {
     "name": "stdout",
     "output_type": "stream",
     "text": [
      "0.20557750487101087\n"
     ]
    }
   ],
   "source": [
    "#predict games that Ipswich Town will win in one season\n",
    "#38 games in a season ,won 4 games \n",
    "k=4\n",
    "n=38\n",
    "p=0.11\n",
    "win_prob = (math.comb (n,k))* p**k *((1-p)**(n-k))\n",
    "print (win_prob)"
   ]
  },
  {
   "cell_type": "code",
   "execution_count": 28,
   "id": "c8a989af",
   "metadata": {},
   "outputs": [
    {
     "name": "stdout",
     "output_type": "stream",
     "text": [
      "0.2772969699903086\n"
     ]
    }
   ],
   "source": [
    "#predict games that Southampton will win in one season\n",
    "#38 games in a season ,won 2 games \n",
    "k=2\n",
    "n=38\n",
    "p=0.05\n",
    "win_prob = (math.comb (n,k))* p**k *((1-p)**(n-k))\n",
    "print (win_prob)"
   ]
  }
 ],
 "metadata": {
  "kernelspec": {
   "display_name": "base",
   "language": "python",
   "name": "python3"
  },
  "language_info": {
   "codemirror_mode": {
    "name": "ipython",
    "version": 3
   },
   "file_extension": ".py",
   "mimetype": "text/x-python",
   "name": "python",
   "nbconvert_exporter": "python",
   "pygments_lexer": "ipython3",
   "version": "3.13.5"
  }
 },
 "nbformat": 4,
 "nbformat_minor": 5
}
